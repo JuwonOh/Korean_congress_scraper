{
 "cells": [
  {
   "cell_type": "code",
   "execution_count": 1,
   "metadata": {},
   "outputs": [],
   "source": [
    "import os, json\n",
    "import pandas as pd\n",
    "from collections import Counter"
   ]
  },
  {
   "cell_type": "code",
   "execution_count": 27,
   "metadata": {},
   "outputs": [],
   "source": [
    "def json_to_csv(name):\n",
    "    path_to_json = 'C:/Users/13a71/Dropbox/github/Korean_congress_scraper/scraper/output/{}'.format(name)\n",
    "    json_files = [pos_json for pos_json in os.listdir(path_to_json) if pos_json.endswith('.json')]\n",
    "    jsons_data = pd.DataFrame(columns=['date', 'title', 'initiator', 'commitee', 'url', \"summury\",\n",
    "                                       \"vote_result\",  \"찬성\", \"불참\", \"청가\", \"기권\", \"반대\", \"결석\", \"결과\"])\n",
    "\n",
    "    # we need both the json and an index number so use enumerate()\n",
    "    for index, js in enumerate(json_files):\n",
    "        with open(os.path.join(path_to_json, js), encoding='UTF8') as json_file:\n",
    "            try:\n",
    "                json_text = json.load(json_file)\n",
    "            except:\n",
    "                continue\n",
    "            date = json_text['date']\n",
    "            \n",
    "            try:\n",
    "                title = json_text['title'].replace('\\n', ' ')\n",
    "            except:\n",
    "                title = json_text['headline'].replace('\\n', ' ')\n",
    "                \n",
    "            initiator = json_text['initiator'].replace('\\n', ' ')[1:]\n",
    "            try:\n",
    "                commitee = json_text['commitee']\n",
    "            except:\n",
    "                commitee = \"없음\"\n",
    "            url = json_text['url']\n",
    "            summury = json_text['summury']\n",
    "            vote_result = json_text['vote_result']\n",
    "            try:\n",
    "                찬성 = json_text['찬성']\n",
    "            except:\n",
    "                찬성 = \"없음\"\n",
    "            try:\n",
    "                불참 = json_text['불참']\n",
    "            except:\n",
    "                불참 = \"없음\"\n",
    "            try:\n",
    "                청가 = json_text['청가']\n",
    "            except:\n",
    "                청가 = \"없음\"\n",
    "            try:\n",
    "                반대 = json_text['반대']\n",
    "            except:\n",
    "                반대 = \"없음\"\n",
    "            try:\n",
    "                결석 = json_text['결석']\n",
    "            except:\n",
    "                결석 = \"없음\"\n",
    "            try:\n",
    "                기권 = json_text['기권']\n",
    "            except:\n",
    "                기권 = \"없음\"\n",
    "            결과 = name\n",
    "            \n",
    "            # here I push a list of data into a pandas DataFrame at row given by 'index'\n",
    "            jsons_data.loc[index] = [date, title, initiator, commitee, url, summury,\n",
    "                                     vote_result, 찬성, 불참, 청가, 기권, 반대, 결석, 결과]\n",
    "            jsons_data = jsons_data.drop_duplicates(subset=['title'])\n",
    "            \n",
    "    return jsons_data\n",
    "    "
   ]
  },
  {
   "cell_type": "code",
   "execution_count": 31,
   "metadata": {
    "scrolled": true
   },
   "outputs": [],
   "source": [
    "temp = json_to_csv(\"수정가결\")"
   ]
  },
  {
   "cell_type": "code",
   "execution_count": 33,
   "metadata": {},
   "outputs": [],
   "source": [
    "temp.to_csv('수정가결.csv', index=False, encoding='utf-8-sig')"
   ]
  },
  {
   "cell_type": "code",
   "execution_count": 5,
   "metadata": {},
   "outputs": [],
   "source": [
    "path_to_json = 'C:/Users/13a71/Dropbox/github/Korean_congress_scraper/scraper/output/원안가결'\n",
    "json_files = [pos_json for pos_json in os.listdir(path_to_json) if pos_json.endswith('.json')]"
   ]
  }
 ],
 "metadata": {
  "kernelspec": {
   "display_name": "Python 3.9.7 ('base')",
   "language": "python",
   "name": "python3"
  },
  "language_info": {
   "codemirror_mode": {
    "name": "ipython",
    "version": 3
   },
   "file_extension": ".py",
   "mimetype": "text/x-python",
   "name": "python",
   "nbconvert_exporter": "python",
   "pygments_lexer": "ipython3",
   "version": "3.9.7"
  },
  "orig_nbformat": 4,
  "vscode": {
   "interpreter": {
    "hash": "c2d695053b52b951b3375d36eeb989fc19fb77982e3543c9c00e03af41956327"
   }
  }
 },
 "nbformat": 4,
 "nbformat_minor": 2
}
