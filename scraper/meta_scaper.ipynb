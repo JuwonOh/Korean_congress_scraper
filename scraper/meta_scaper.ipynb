{
 "cells": [
  {
   "cell_type": "code",
   "execution_count": 1,
   "metadata": {},
   "outputs": [],
   "source": [
    "\n",
    "import Legisture_scraper\n",
    "from Legisture_scraper import get_soup, parse_table\n",
    "import pandas as pd"
   ]
  },
  {
   "cell_type": "code",
   "execution_count": 2,
   "metadata": {},
   "outputs": [],
   "source": [
    "def meta_parser(url):\n",
    "    soup = get_soup(url)\n",
    "    name = soup.find('h1').find('i').next_element.rstrip()\n",
    "    c_name = soup.find('h1').find('span', class_='small').text\n",
    "    data = []\n",
    "    table_body = soup.find('tbody')\n",
    "    rows = table_body.find_all('tr')\n",
    "    for row in rows:\n",
    "        cols = row.find_all('td')\n",
    "        cols = [ele.text.strip() for ele in cols]\n",
    "        data.append([ele for ele in cols if ele])\n",
    "    df = pd.DataFrame(data).set_index(0)\n",
    "    df.loc['name'] = name\n",
    "    df.loc['c_name'] = c_name\n",
    "    df.index.name = None\n",
    "    \n",
    "    return df"
   ]
  },
  {
   "cell_type": "code",
   "execution_count": 3,
   "metadata": {},
   "outputs": [],
   "source": [
    "temp = parse_table(bill_id=16611, bill_no = 2113969)"
   ]
  },
  {
   "cell_type": "code",
   "execution_count": 4,
   "metadata": {},
   "outputs": [],
   "source": [
    "opts = ['찬성', '기권','불참', '출장','청가', '결석']\n",
    "meta_urls = []\n",
    "for vote in opts:\n",
    "    for url in temp[vote]:\n",
    "        meta_urls.append(url[1])"
   ]
  },
  {
   "cell_type": "code",
   "execution_count": 5,
   "metadata": {},
   "outputs": [
    {
     "name": "stdout",
     "output_type": "stream",
     "text": [
      "this congress man is not current congressman\n"
     ]
    }
   ],
   "source": [
    "meta_congressman= pd.DataFrame()\n",
    "for url in meta_urls:\n",
    "    try:\n",
    "        df =  meta_parser(url)\n",
    "    except:\n",
    "        print(\"this congress man is not current congressman\")\n",
    "    meta_congressman = pd.concat([meta_congressman, df.T], axis = 0)"
   ]
  },
  {
   "cell_type": "code",
   "execution_count": 6,
   "metadata": {},
   "outputs": [],
   "source": [
    "meta_congressman.to_csv(\"2022-07-26_meta.csv\", encoding = \"UTF-8\", index = False)"
   ]
  },
  {
   "cell_type": "code",
   "execution_count": null,
   "metadata": {},
   "outputs": [],
   "source": []
  }
 ],
 "metadata": {
  "kernelspec": {
   "display_name": "Python 3.9.7 ('base')",
   "language": "python",
   "name": "python3"
  },
  "language_info": {
   "codemirror_mode": {
    "name": "ipython",
    "version": 3
   },
   "file_extension": ".py",
   "mimetype": "text/x-python",
   "name": "python",
   "nbconvert_exporter": "python",
   "pygments_lexer": "ipython3",
   "version": "3.9.7"
  },
  "orig_nbformat": 4,
  "vscode": {
   "interpreter": {
    "hash": "c2d695053b52b951b3375d36eeb989fc19fb77982e3543c9c00e03af41956327"
   }
  }
 },
 "nbformat": 4,
 "nbformat_minor": 2
}
